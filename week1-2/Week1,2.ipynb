{
 "cells": [
  {
   "cell_type": "markdown",
   "metadata": {},
   "source": [
    "# Step belajar week 1#\n",
    "\n",
    "---\n",
    "\n",
    "Pertama tama yang saya lakukan adalah mengingat ulang dasar-dasar syntax phyton \n",
    "\n",
    "\n",
    "\n"
   ]
  },
  {
   "cell_type": "code",
   "execution_count": 11,
   "metadata": {},
   "outputs": [
    {
     "name": "stdout",
     "output_type": "stream",
     "text": [
      "2\n",
      "4\n",
      "apple\n",
      "cherry\n",
      "banana\n",
      "\n",
      "Loop pyramid \n",
      "   *\n",
      "  ***\n",
      " *****\n",
      "*******\n"
     ]
    }
   ],
   "source": [
    "print(1+1)\n",
    "\n",
    "a=1\n",
    "b=3\n",
    "c= a+b\n",
    "print (c)\n",
    "\n",
    "\n",
    "fruits = [\"apple\", \"cherry\", \"banana\",\"apple\"]\n",
    "for x in fruits:\n",
    "  print(x)\n",
    "  if x == \"banana\":\n",
    "    break\n",
    "  \n",
    "\n",
    "print()\n",
    "\n",
    "print (\"Loop pyramid \")\n",
    "# Use\n",
    "rows = int(input(\"Enter the number of rows for the pyramid: \"))\n",
    "\n",
    "# Outer loop to handle number of rows\n",
    "for i in range(1, rows + 1):\n",
    "    # Print spaces (decreasing)\n",
    "    for j in range(rows - i):\n",
    "        print(\" \", end=\"\")\n",
    "    \n",
    "    # Print stars (increasing)\n",
    "    for k in range(2 * i - 1):\n",
    "        print(\"*\", end=\"\")\n",
    "    \n",
    "    # Move to the next line\n",
    "    print()\n",
    "\n",
    "\n",
    "\n"
   ]
  },
  {
   "cell_type": "markdown",
   "metadata": {},
   "source": [
    "#Setelah saya mulai familiar lagi dengan phyton, saya mencoba yang ada di materi#\n",
    "\n",
    "---\n",
    "\n",
    "1. Basic Lib Text Preprocessing (Basic untuk persiapan prosesing text)\n",
    "    \n",
    "    a. Text folding lower case (merubah text menjadi kecil semua)"
   ]
  },
  {
   "cell_type": "code",
   "execution_count": 12,
   "metadata": {},
   "outputs": [
    {
     "name": "stdout",
     "output_type": "stream",
     "text": [
      " aku adalah daniel nomolas wicaskono, mahasiswa udinus teknik informatika angkatan 2022.\n"
     ]
    }
   ],
   "source": [
    "kalimat = \" Aku adalah Daniel Nomolas Wicaskono, Mahasiswa Udinus Teknik Informatika angkatan 2022.\"\n",
    "\n",
    "lower_case = kalimat.lower()\n",
    "\n",
    "print(kalimat.lower())\n"
   ]
  },
  {
   "cell_type": "markdown",
   "metadata": {},
   "source": [
    "b.  Remove number (menghilangkan angka)\n",
    "\n",
    "    untuk menghilangkan angka kita mengharuskan import fungsi liubrary re"
   ]
  },
  {
   "cell_type": "code",
   "execution_count": 13,
   "metadata": {},
   "outputs": [
    {
     "data": {
      "text/plain": [
       "' Aku adalah Daniel Nomolas Wicaskono, Mahasiswa Udinus Teknik Informatika angkatan .'"
      ]
     },
     "execution_count": 13,
     "metadata": {},
     "output_type": "execute_result"
    }
   ],
   "source": [
    "import re\n",
    "\n",
    "hasil = re.sub(r\"\\d+\", \"\", kalimat)\n",
    "hasil"
   ]
  },
  {
   "cell_type": "markdown",
   "metadata": {},
   "source": [
    "C. Menghilangkan tanda baca\n",
    "    \n",
    "    untuk menghilangkan tanda baca kita mengimport fungsi string"
   ]
  },
  {
   "cell_type": "code",
   "execution_count": 17,
   "metadata": {},
   "outputs": [
    {
     "data": {
      "text/plain": [
       "'ini adalah  contoh  kalimat  dengan  tandabaca '"
      ]
     },
     "execution_count": 17,
     "metadata": {},
     "output_type": "execute_result"
    }
   ],
   "source": [
    "import string\n",
    "\n",
    "\n",
    "kalimat = \"{ini}, adalah ; contoh / kalimat ? dengan ; tanda_baca \"\n",
    "\n",
    "hasil = kalimat.translate(str.maketrans(\"\",\"\",string.punctuation))\n",
    "hasil"
   ]
  },
  {
   "cell_type": "code",
   "execution_count": 19,
   "metadata": {},
   "outputs": [
    {
     "data": {
      "text/plain": [
       "['ini', 'kalimat', 'contoh']"
      ]
     },
     "execution_count": 19,
     "metadata": {},
     "output_type": "execute_result"
    }
   ],
   "source": [
    "pisah =  hasil.split()\n",
    "\n",
    "pisah"
   ]
  },
  {
   "cell_type": "code",
   "execution_count": 18,
   "metadata": {},
   "outputs": [
    {
     "data": {
      "text/plain": [
       "'ini kalimat contoh'"
      ]
     },
     "execution_count": 18,
     "metadata": {},
     "output_type": "execute_result"
    }
   ],
   "source": [
    "kalimat = \" \\t    ini kalimat contoh \\t   \\n\"\n",
    "hasil = kalimat.strip()\n",
    "\n",
    "hasil"
   ]
  },
  {
   "cell_type": "markdown",
   "metadata": {},
   "source": [
    "# Tokenizing : Word Tokenizing using NLTK Module \"\n",
    "\n",
    "---\n",
    "\n",
    "Untuk melakukan tokenizing kita harus menginstall library NLTK terlebih dahulu.\n",
    "dengan syntax \"pip install nltk\""
   ]
  },
  {
   "cell_type": "code",
   "execution_count": 28,
   "metadata": {},
   "outputs": [
    {
     "name": "stdout",
     "output_type": "stream",
     "text": [
      "['Andi', 'kerap', 'melakukan', 'transaksi', 'rutin', 'secara', 'daring', 'atau', 'online', '.']\n"
     ]
    }
   ],
   "source": [
    "import nltk\n",
    "from nltk.tokenize import word_tokenize \n",
    "\n",
    "\n",
    "kalimat = \"Andi kerap melakukan transaksi rutin secara daring atau online.\"\n",
    "\n",
    "# Melakukan tokenisasi\n",
    "tokens = word_tokenize(kalimat)\n",
    "\n",
    "print(tokens)\n"
   ]
  },
  {
   "cell_type": "markdown",
   "metadata": {},
   "source": [
    "Mengabungkan fungsi folding dengan tokenizing.\n",
    "---\n",
    "1. Dengan Function Chaining\n"
   ]
  },
  {
   "cell_type": "code",
   "execution_count": 29,
   "metadata": {},
   "outputs": [
    {
     "data": {
      "text/plain": [
       "['andi',\n",
       " 'kerap',\n",
       " 'melakukan',\n",
       " 'transaksi',\n",
       " 'rutin',\n",
       " 'secara',\n",
       " 'daring',\n",
       " 'atau',\n",
       " 'online']"
      ]
     },
     "execution_count": 29,
     "metadata": {},
     "output_type": "execute_result"
    }
   ],
   "source": [
    "\n",
    "\n",
    "from nltk.tokenize import word_tokenize \n",
    " \n",
    "kalimat = \"Andi kerap melakukan transaksi rutin secara daring atau online.\"\n",
    "\n",
    "kalimat = kalimat.translate(str.maketrans('','',string.punctuation)).lower()\n",
    "\n",
    "tokens = nltk.tokenize.word_tokenize(kalimat)\n",
    "\n",
    "tokens"
   ]
  },
  {
   "cell_type": "markdown",
   "metadata": {},
   "source": [
    "2. Tanpa Function chaining"
   ]
  },
  {
   "cell_type": "code",
   "execution_count": 26,
   "metadata": {},
   "outputs": [
    {
     "data": {
      "text/plain": [
       "['andi',\n",
       " 'kerap',\n",
       " 'melakukan',\n",
       " 'transaksi',\n",
       " 'rutin',\n",
       " 'secara',\n",
       " 'daring',\n",
       " 'atau',\n",
       " 'online']"
      ]
     },
     "execution_count": 26,
     "metadata": {},
     "output_type": "execute_result"
    }
   ],
   "source": [
    "from nltk.tokenize import word_tokenize \n",
    " \n",
    "kalimat2 = \"Andi kerap melakukan transaksi rutin secara daring atau online.\"\n",
    "\n",
    "kalimat3 = kalimat.translate(str.maketrans('','',string.punctuation))\n",
    "\n",
    "kalimat4 = kalimat1.lower()\n",
    "\n",
    "tokens = nltk.tokenize.word_tokenize(kalimat4)\n",
    "\n",
    "tokens"
   ]
  },
  {
   "cell_type": "markdown",
   "metadata": {},
   "source": [
    "Terlihat dengan menggunakan function chaining, code menjadi lebih pendek"
   ]
  },
  {
   "cell_type": "markdown",
   "metadata": {},
   "source": [
    "# Frequency distribution#\n",
    "---\n",
    "\n",
    "Menghitung frekuensi tiap token pada tiap kalimat"
   ]
  },
  {
   "cell_type": "code",
   "execution_count": 33,
   "metadata": {},
   "outputs": [
    {
     "name": "stdout",
     "output_type": "stream",
     "text": [
      "[('andi', 3), ('menggunakan', 2), ('cash', 2), ('kerap', 1), ('melakukan', 1), ('transaksi', 1), ('rutin', 1), ('secara', 1), ('daring', 1), ('ataupun', 1), ('online', 1), ('menurut', 1), ('adalah', 1), ('segalanya', 1), ('maka', 1), ('dari', 1), ('itu', 1), ('lebih', 1), ('mending', 1), ('menggunakannya', 1), ('daripada', 1), ('metode', 1), ('pembayaran', 1), ('baru', 1)]\n"
     ]
    }
   ],
   "source": [
    "from nltk.tokenize import word_tokenize\n",
    "\n",
    "from nltk.probability import FreqDist\n",
    "\n",
    "kalimat = \"Andi Kerap melakukan transaksi rutin secara daring ataupun online menggunakan CASH. Menurut andi cash adalah segalanya maka dari itu andi lebih mending menggunakannya daripada menggunakan metode pembayaran baru\"\n",
    "\n",
    "kalimat = kalimat.translate(str.maketrans('','',string.punctuation)).lower()\n",
    "\n",
    "tokens = nltk.tokenize.word_tokenize(kalimat)\n",
    "\n",
    "kemunculan = nltk.FreqDist(tokens)\n",
    "\n",
    "print(kemunculan.most_common())"
   ]
  },
  {
   "cell_type": "code",
   "execution_count": 34,
   "metadata": {},
   "outputs": [
    {
     "data": {
      "image/png": "[encoded data removed]",
      "text/plain": [
       "<Figure size 640x480 with 1 Axes>"
      ]
     },
     "metadata": {},
     "output_type": "display_data"
    }
   ],
   "source": [
    "import matplotlib.pyplot as plt\n",
    "\n",
    "kemunculan.plot(30, cumulative=False)\n",
    "\n",
    "plt.show()"
   ]
  },
  {
   "cell_type": "markdown",
   "metadata": {},
   "source": [
    "# Tokenizing kalimat dari sebuah paragraf#"
   ]
  },
  {
   "cell_type": "code",
   "execution_count": 39,
   "metadata": {},
   "outputs": [
    {
     "name": "stdout",
     "output_type": "stream",
     "text": [
      "['Andi Kerap melakukan transaksi rutin secara daring ataupun online menggunakan CASH.', 'Menurut andi cash adalah segalanya maka dari itu andi lebih mending menggunakannya daripada menggunakan metode pembayaran baru.']\n"
     ]
    }
   ],
   "source": [
    "from nltk.tokenize import sent_tokenize\n",
    "\n",
    "\n",
    "tokens =  nltk.tokenize.sent_tokenize(kalimat)\n",
    "\n",
    "print(tokens)"
   ]
  },
  {
   "cell_type": "markdown",
   "metadata": {},
   "source": [
    "# Melakukan filtering word #\n",
    "---\n",
    "\n",
    "Ini bisa dilakukan dengan menggunakan function stopword\n"
   ]
  },
  {
   "cell_type": "code",
   "execution_count": 40,
   "metadata": {},
   "outputs": [
    {
     "name": "stdout",
     "output_type": "stream",
     "text": [
      "['andi', 'kerap', 'transaksi', 'rutin', 'daring', 'online', 'cash', 'andi', 'cash', 'andi', 'mending', 'menggunakannya', 'metode', 'pembayaran']\n"
     ]
    }
   ],
   "source": [
    "from nltk.tokenize import sent_tokenize, word_tokenize\n",
    "from nltk.corpus import stopwords\n",
    " \n",
    "kalimat = \"Andi Kerap melakukan transaksi rutin secara daring ataupun online menggunakan CASH. Menurut andi cash adalah segalanya maka dari itu andi lebih mending menggunakannya daripada menggunakan metode pembayaran baru.\"\n",
    "kalimat = kalimat.translate(str.maketrans('','',string.punctuation)).lower()\n",
    "\n",
    "tokens = word_tokenize(kalimat)\n",
    "listStopword = set(stopwords.words('Indonesian'))\n",
    "\n",
    "removed = []\n",
    "for t in tokens:\n",
    "    if t not in listStopword:\n",
    "        removed.append(t)\n",
    " \n",
    "print(removed)"
   ]
  },
  {
   "cell_type": "markdown",
   "metadata": {},
   "source": [
    "# Setelah itu kita akan mencoba filtering menggunakan sastrawi #\n",
    "\n",
    "---\n",
    "Pastikan sudah menginstall library sastrawi terlebih dahulu"
   ]
  },
  {
   "cell_type": "code",
   "execution_count": 43,
   "metadata": {},
   "outputs": [
    {
     "name": "stdout",
     "output_type": "stream",
     "text": [
      "['andi', 'kerap', 'melakukan', 'transaksi', 'rutin', 'daring', 'ataupun', 'online', 'menggunakan', 'cash', 'andi', 'cash', 'segalanya', 'dari', 'andi', 'lebih', 'mending', 'menggunakannya', 'menggunakan', 'metode', 'pembayaran', 'baru']\n"
     ]
    }
   ],
   "source": [
    "from Sastrawi.StopWordRemover.StopWordRemoverFactory import StopWordRemoverFactory\n",
    "from nltk.tokenize import word_tokenize \n",
    "\n",
    "factory = StopWordRemoverFactory()\n",
    "stopword = factory.create_stop_word_remover()\n",
    "\n",
    "kalimat = \"Andi Kerap melakukan transaksi rutin secara daring ataupun online menggunakan CASH. Menurut andi cash adalah segalanya maka dari itu andi lebih mending menggunakannya daripada menggunakan metode pembayaran baru.\"\n",
    "kalimat = kalimat.translate(str.maketrans('','',string.punctuation)).lower()\n",
    "\n",
    "\n",
    "stop = stopword.remove(kalimat)\n",
    "tokens = nltk.tokenize.word_tokenize(stop)\n",
    "\n",
    "print(tokens)"
   ]
  },
  {
   "cell_type": "markdown",
   "metadata": {},
   "source": [
    "# Kita dapat mengecek, list filtering sastrawi#"
   ]
  },
  {
   "cell_type": "code",
   "execution_count": 45,
   "metadata": {},
   "outputs": [
    {
     "name": "stdout",
     "output_type": "stream",
     "text": [
      "['yang', 'untuk', 'pada', 'ke', 'para', 'namun', 'menurut', 'antara', 'dia', 'dua', 'ia', 'seperti', 'jika', 'jika', 'sehingga', 'kembali', 'dan', 'tidak', 'ini', 'karena', 'kepada', 'oleh', 'saat', 'harus', 'sementara', 'setelah', 'belum', 'kami', 'sekitar', 'bagi', 'serta', 'di', 'dari', 'telah', 'sebagai', 'masih', 'hal', 'ketika', 'adalah', 'itu', 'dalam', 'bisa', 'bahwa', 'atau', 'hanya', 'kita', 'dengan', 'akan', 'juga', 'ada', 'mereka', 'sudah', 'saya', 'terhadap', 'secara', 'agar', 'lain', 'anda', 'begitu', 'mengapa', 'kenapa', 'yaitu', 'yakni', 'daripada', 'itulah', 'lagi', 'maka', 'tentang', 'demi', 'dimana', 'kemana', 'pula', 'sambil', 'sebelum', 'sesudah', 'supaya', 'guna', 'kah', 'pun', 'sampai', 'sedangkan', 'selagi', 'sementara', 'tetapi', 'apakah', 'kecuali', 'sebab', 'selain', 'seolah', 'seraya', 'seterusnya', 'tanpa', 'agak', 'boleh', 'dapat', 'dsb', 'dst', 'dll', 'dahulu', 'dulunya', 'anu', 'demikian', 'tapi', 'ingin', 'juga', 'nggak', 'mari', 'nanti', 'melainkan', 'oh', 'ok', 'seharusnya', 'sebetulnya', 'setiap', 'setidaknya', 'sesuatu', 'pasti', 'saja', 'toh', 'ya', 'walau', 'tolong', 'tentu', 'amat', 'apalagi', 'bagaimanapun']\n"
     ]
    }
   ],
   "source": [
    "from Sastrawi.StopWordRemover.StopWordRemoverFactory import StopWordRemoverFactory\n",
    "\n",
    "factory = StopWordRemoverFactory()\n",
    "stopwords = factory.get_stop_words()\n",
    "print(stopwords)"
   ]
  },
  {
   "cell_type": "markdown",
   "metadata": {},
   "source": [
    "# Add custom stopword #\n",
    "\n",
    "---\n",
    "\n",
    "Kita juga bisa membuat filter word kita sendiri, menggunakan function more_stopword\n"
   ]
  },
  {
   "cell_type": "code",
   "execution_count": 2,
   "metadata": {},
   "outputs": [
    {
     "name": "stdout",
     "output_type": "stream",
     "text": [
      "['andi', 'kerap', 'melakukan', 'transaksi', 'rutin', 'ataupun', 'menggunakan', 'cash', 'andi', 'cash', 'segalanya', 'andi', 'lebih', 'mending', 'menggunakannya', 'menggunakan', 'metode', 'pembayaran', 'baru']\n"
     ]
    }
   ],
   "source": [
    "from Sastrawi.StopWordRemover.StopWordRemoverFactory import StopWordRemoverFactory\n",
    "from nltk.tokenize import word_tokenize\n",
    "import string  # Pastikan kita mengimpor modul string untuk punctuation\n",
    "\n",
    "# Ambil stopword bawaan dari Sastrawi\n",
    "stop_factory = StopWordRemoverFactory()\n",
    "\n",
    "# Membuat objek stopword remover\n",
    "stopword_remover = stop_factory.create_stop_word_remover()\n",
    "\n",
    "# Fungsi untuk menambahkan kata ke daftar stopword tambahan\n",
    "more_stopword = ['daring', 'online']\n",
    "default_stopwords = stop_factory.get_stop_words()\n",
    "\n",
    "# Gabungkan stopwords bawaan dengan stopwords tambahan\n",
    "data_stopwords = default_stopwords + more_stopword\n",
    "\n",
    "# Kalimat yang akan diproses\n",
    "kalimat = \"Andi Kerap melakukan transaksi rutin secara daring ataupun online menggunakan CASH. Menurut andi cash adalah segalanya maka dari itu andi lebih mending menggunakannya daripada menggunakan metode pembayaran baru.\"\n",
    "\n",
    "# Hapus tanda baca menggunakan str.maketrans() dan ubah ke huruf kecil\n",
    "kalimat_bersih = kalimat.translate(str.maketrans('', '', string.punctuation)).lower()\n",
    "\n",
    "# Menghapus stopwords dari kalimat\n",
    "for stopword in data_stopwords:\n",
    "    kalimat_bersih = kalimat_bersih.replace(f\" {stopword} \", \" \")\n",
    "\n",
    "# Tokenisasi hasil kalimat yang sudah difilter\n",
    "tokens = word_tokenize(kalimat_bersih)\n",
    "\n",
    "# Cetak hasil token yang sudah difilter dari stopwords\n",
    "print(tokens)\n"
   ]
  },
  {
   "cell_type": "markdown",
   "metadata": {},
   "source": [
    "# Stemming #\n",
    "---\n",
    "Merupakan metode untuk mengetahui kata dasar dari sebuah kata, menggunakan fungsi porter stemmer dari library nltk.stem"
   ]
  },
  {
   "cell_type": "code",
   "execution_count": 5,
   "metadata": {},
   "outputs": [
    {
     "name": "stdout",
     "output_type": "stream",
     "text": [
      "Program  :  program\n",
      "Programs  :  program\n",
      "programer  :  program\n",
      "programing  :  program\n",
      "programers  :  program\n"
     ]
    }
   ],
   "source": [
    "from nltk.stem import PorterStemmer\n",
    "\n",
    "ps = PorterStemmer()\n",
    "\n",
    "kata = [\"Program\",\"Programs\",\"programer\",\"programing\",\"programers\"]\n",
    "\n",
    "for k in kata :\n",
    "    print (k, \" : \", ps.stem(k))"
   ]
  },
  {
   "cell_type": "markdown",
   "metadata": {},
   "source": [
    "Setelah bisa melakukan stemming, mari kita masukan library untuk bahasa indonesia yaitu sastrawi."
   ]
  },
  {
   "cell_type": "code",
   "execution_count": 6,
   "metadata": {},
   "outputs": [
    {
     "data": {
      "text/plain": [
       "'andi kerap laku transaksi rutin cara daring atau online guna cash turut andi cash adalah segala maka dari itu andi lebih mending guna daripada guna metode bayar baru'"
      ]
     },
     "execution_count": 6,
     "metadata": {},
     "output_type": "execute_result"
    }
   ],
   "source": [
    "from Sastrawi.Stemmer.StemmerFactory import StemmerFactory\n",
    "\n",
    "\n",
    "factory = StemmerFactory()\n",
    "\n",
    "stemmer =  factory.create_stemmer()\n",
    "\n",
    "kalimat = \"Andi Kerap melakukan transaksi rutin secara daring ataupun online menggunakan CASH. Menurut andi cash adalah segalanya maka dari itu andi lebih mending menggunakannya daripada menggunakan metode pembayaran baru.\"\n",
    "\n",
    "hasil = stemmer.stem(kalimat)\n",
    "\n",
    "hasil\n"
   ]
  },
  {
   "cell_type": "code",
   "execution_count": null,
   "metadata": {},
   "outputs": [],
   "source": []
  }
 ],
 "metadata": {
  "kernelspec": {
   "display_name": "Python 3",
   "language": "python",
   "name": "python3"
  },
  "language_info": {
   "codemirror_mode": {
    "name": "ipython",
    "version": 3
   },
   "file_extension": ".py",
   "mimetype": "text/x-python",
   "name": "python",
   "nbconvert_exporter": "python",
   "pygments_lexer": "ipython3",
   "version": "3.12.3"
  }
 },
 "nbformat": 4,
 "nbformat_minor": 2
}
